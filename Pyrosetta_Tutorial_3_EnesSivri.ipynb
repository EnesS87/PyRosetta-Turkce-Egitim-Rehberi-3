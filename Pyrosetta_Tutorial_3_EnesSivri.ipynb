{
  "nbformat": 4,
  "nbformat_minor": 0,
  "metadata": {
    "colab": {
      "provenance": [],
      "authorship_tag": "ABX9TyMzEJkq5mQewe8KP9tJwLEP",
      "include_colab_link": true
    },
    "kernelspec": {
      "name": "python3",
      "display_name": "Python 3"
    },
    "language_info": {
      "name": "python"
    }
  },
  "cells": [
    {
      "cell_type": "markdown",
      "metadata": {
        "id": "view-in-github",
        "colab_type": "text"
      },
      "source": [
        "<a href=\"https://colab.research.google.com/github/EnesS87/PyRosetta-Turkce-Egitim-Rehberi-3/blob/main/Pyrosetta_Tutorial_3_EnesSivri.ipynb\" target=\"_parent\"><img src=\"https://colab.research.google.com/assets/colab-badge.svg\" alt=\"Open In Colab\"/></a>"
      ]
    },
    {
      "cell_type": "markdown",
      "source": [
        "# Gerekli Library'leri indirip kuruyoruz\n",
        "\n",
        "\n"
      ],
      "metadata": {
        "id": "X_eqvFotET-a"
      }
    },
    {
      "cell_type": "code",
      "execution_count": null,
      "metadata": {
        "collapsed": true,
        "id": "FTQ1MjPMB4Pv"
      },
      "outputs": [],
      "source": [
        "!pip install pyrosettacolabsetup\n",
        "!pip install pyrosettacolabsetup\n",
        "!pip install pyrosettacolabsetup py3dmol git+https://github.com/RosettaCommons/pyrosetta_viewer3d.git\n",
        "!pip install py3Dmol nglview"
      ]
    },
    {
      "cell_type": "code",
      "source": [
        "import pyrosettacolabsetup; pyrosettacolabsetup.install_pyrosetta()\n",
        "import pyrosetta; pyrosetta.init()\n",
        "import pyrosetta.distributed.io as io\n",
        "import nglview as nv\n",
        "import numpy as np\n",
        "from pyrosetta import *\n",
        "import pyrosetta.network\n",
        "pyrosetta.init()"
      ],
      "metadata": {
        "collapsed": true,
        "id": "kvo4EIB_CSXn"
      },
      "execution_count": null,
      "outputs": []
    },
    {
      "cell_type": "markdown",
      "source": [
        "***"
      ],
      "metadata": {
        "id": "zGzFh0_IEz_G"
      }
    },
    {
      "cell_type": "code",
      "source": [
        "!wget https://files.rcsb.org/download/5TJ3.pdb\n",
        "\n",
        "pose = pose_from_pdb(\"5TJ3.pdb\")"
      ],
      "metadata": {
        "collapsed": true,
        "id": "hqbDm2kQCnHA"
      },
      "execution_count": null,
      "outputs": []
    },
    {
      "cell_type": "markdown",
      "source": [
        "## Kod Açıklaması\n",
        "\n",
        "Buraya kadar olan kısımların açıklaması önceki bölümlerde mevcut. Tüm bölümler şu adreste mevcut: https://github.com/EnesS87"
      ],
      "metadata": {
        "id": "gUq97PV6Eg9a"
      }
    },
    {
      "cell_type": "markdown",
      "source": [
        "***"
      ],
      "metadata": {
        "id": "MhA3-R5lEwjj"
      }
    },
    {
      "cell_type": "code",
      "source": [
        "zn_resid = pose.pdb_info().pdb2pose('A', 601)\n",
        "res_zn = pose.residue(zn_resid)\n",
        "res_zn.is_metal()"
      ],
      "metadata": {
        "id": "zEXS638rCy6v"
      },
      "execution_count": null,
      "outputs": []
    },
    {
      "cell_type": "markdown",
      "source": [
        "## Kod Açıklaması\n",
        "\n",
        "Bu kod, PDB dosyasından okunan bir protein yapısındaki belirli bir zincir ve rezidü numarasına karşılık gelen metal iyonunu (çinko) bulur ve bu rezidünün bir metal olup olmadığını kontrol eder. Bu, özellikle metalloenzimler veya metal bağlanma bölgeleri içeren proteinleri çalışırken faydalıdır.\n",
        "\n",
        "\n",
        "***pose.pdb_info().pdb2pose('A',601)***\n",
        "\n",
        "* pose.pdb_info() pose nesnesinin PDB bilgilerini içeren bir nesne döner.\n",
        "\n",
        "* pdb2pose('A', 601), PDB formatındaki 'A' zincirindeki 601 numaralı residue'nün pose içindeki indeksini döner.\n",
        "\n",
        "***res_zn = pose.residue(zn_resid)***\n",
        "\n",
        "* bu, pose nesnesinden zn_resid indeksine karşılık gelen residue nesnesi döner. Bu durumda, bu residue çinko (Zn) atomudur. res_zn bu residue nesnesini tutar.\n",
        "\n",
        "***res_zn.is_metal()***\n",
        "\n",
        "* bu res_zn nesnesinin bir metal olup olmadığını kontrol eden bir fonksiyondur. Eğer res_zn bir metal ise bu fonksiyon True döner, aksi taktirde False döner.\n",
        "\n",
        "\n"
      ],
      "metadata": {
        "id": "NyQoXDl1Hj2g"
      }
    },
    {
      "cell_type": "markdown",
      "source": [
        "***"
      ],
      "metadata": {
        "id": "mtrQLIHQJRqR"
      }
    },
    {
      "cell_type": "code",
      "source": [
        "res_24 = pose.residue(24)"
      ],
      "metadata": {
        "id": "i-w4WBoDFBhb"
      },
      "execution_count": null,
      "outputs": []
    },
    {
      "cell_type": "code",
      "source": [
        "res_24.atom_is_backbone(res_24.atom_index(\"CA\"))"
      ],
      "metadata": {
        "id": "3O0bi_JfJfnn"
      },
      "execution_count": null,
      "outputs": []
    },
    {
      "cell_type": "markdown",
      "source": [
        "## Kod Açıklaması\n",
        "\n",
        "Bu kod, bir pose nesnesindeki belirli bir residue'nün belirli bir atomunun omurga atomu olup olmadığını kontrol eder. Omurga atomları, proteinlerin ana yapısını oluşturan atomlardır ve genellikle protein yapısının analizi ve modellemesinde önemli rol oynar.\n",
        "\n",
        "***pose.residue(24)***\n",
        "\n",
        "* pose nesnesinden 24 numaralı residue'ye karşılık gelen residue nesnesini döner. res_24 bu residue nesnesini tutar.\n",
        "\n",
        "***res_24.atom_is_backbone(res_24.atom_index(\"CA\"))***\n",
        "\n",
        "* res_24 residue'sünde belirtilen index'teki atomun omurga atomu olup olmadığını kontrol eder. Omurga atomları genellikle N, CA, C, ve O atomlarını içerir. Eğer atom omurga atomu ise True değilse False döner.\n"
      ],
      "metadata": {
        "id": "4Cs8AeZWJsF4"
      }
    },
    {
      "cell_type": "markdown",
      "source": [
        "***"
      ],
      "metadata": {
        "id": "4v0O0wNLKmOv"
      }
    },
    {
      "cell_type": "code",
      "source": [
        "from IPython.display import Image\n",
        "!wget https://www.cryst.bbk.ac.uk/PPS95/course/9_quaternary/3_geometry/torsion.gif\n",
        "Image('/content/torsion.gif')"
      ],
      "metadata": {
        "id": "5pmaWTJUJlHF"
      },
      "execution_count": null,
      "outputs": []
    },
    {
      "cell_type": "markdown",
      "source": [
        "## Kod Açıklaması\n",
        "\n",
        "Burada size phi, psi, ve chi açılarını göstermek için bu görseli indirdik ve buraya koyduk.\n",
        "\n",
        "Amino asitler pH seviyesine bağlı olarak pozitif, negatif veya nötr yük taşıyabilirler. Bu elektriksel yükler, proteinlerin yapısını, fonksiyonunu ve etkileşimini etkileyebilir.\n",
        "\n",
        "**Yüklü amino asitler:**\n",
        "\n",
        "*Pozitif yüklü (bazik) amino asitler:*\n",
        "\n",
        "* Lysine (Lys, K)\n",
        "* Arginine (Arg, R)\n",
        "* Histidine (His, H)(*)\n",
        "\n",
        "*Negatif yüklü (asidik) amino asitler:*\n",
        "\n",
        "* Aspartic Acid (Asp, D)\n",
        "* Glutamic Acid (Glu, E)\n",
        "\n",
        "Yüklü residue'lar proteinlerin yüzeyinde veya aktif bölgelerinde bulunarak, diğer moleküllerle etkileşimde önemli rol oynayabilirler.\n",
        "\n",
        "Eğer bir residue yüklü ise, bu özellik proteinlerin çözünürlüğü, stabilitesi ve etkileşimleri gibi birçok biyokimyasal ve biyofiziksel özellikte önemli rol oynar.\n",
        "\n",
        "*\n",
        "\n",
        "***from IPython.display import Image***\n",
        "\n",
        "* Bu satır IPython.display modülünden Image sınıfını içe aktarır. Bu sınıf, Jupyter Notebook veya benzeri ortamlar kullanarak görüntü dosyalarını görüntülemek için kullanılır\n",
        "\n",
        "!wget\n",
        "\n",
        "* bu komut, bir URL'den dosya indirmek için kullanılan bir Unix komutudur. İndirmek istediğiniz dosyanın direkt url'sini yazmalısınız, sitenin url'sini yazmanız gibi durumlarda istediğiniz sonucu alamazsınız. Fotoğraf veya resim indirmek istediğinizde, resmin üzerine sağ tıklayarak yeni bir sekmede açarak oradaki url'yi kullanabilirsiniz.\n",
        "\n"
      ],
      "metadata": {
        "id": "JQ8YSz4INFl5"
      }
    },
    {
      "cell_type": "markdown",
      "source": [
        "***"
      ],
      "metadata": {
        "id": "ZctqHg1BNFrH"
      }
    },
    {
      "cell_type": "code",
      "source": [
        "resid = pose.pdb_info().pdb2pose('A', 28)"
      ],
      "metadata": {
        "id": "INzj8Zh-MIMZ"
      },
      "execution_count": null,
      "outputs": []
    },
    {
      "cell_type": "code",
      "source": [
        "print(\"phi:\", pose.phi(resid))\n",
        "print(\"psi:\", pose.psi(resid))\n",
        "print(\"chi1:\", pose.chi(1, resid))"
      ],
      "metadata": {
        "id": "ZC_s-hTNOrfy"
      },
      "execution_count": null,
      "outputs": []
    },
    {
      "cell_type": "code",
      "source": [
        "conformation = pose.conformation()"
      ],
      "metadata": {
        "id": "wYZJ23b8O-Vn"
      },
      "execution_count": null,
      "outputs": []
    },
    {
      "cell_type": "code",
      "source": [
        "res_28 = pose.residue(resid)\n",
        "N28 = AtomID(res_28.atom_index(\"N\"), resid)\n",
        "CA28 = AtomID(res_28.atom_index(\"CA\"), resid)\n",
        "C28 = AtomID(res_28.atom_index(\"C\"), resid)"
      ],
      "metadata": {
        "id": "Qg-7mKsjPH9o"
      },
      "execution_count": null,
      "outputs": []
    },
    {
      "cell_type": "code",
      "source": [
        "print(N28)"
      ],
      "metadata": {
        "id": "LJhor7q2PqsQ"
      },
      "execution_count": null,
      "outputs": []
    },
    {
      "cell_type": "markdown",
      "source": [
        "## Kod Açıklaması\n",
        "\n",
        "Bu kod parçacığı, belirli bir pozisyondaki rezidünün çeşitli torsiyon açılarının yanı sıra atom kimliklerini (AtomID) elde etmek için PyRosetta'yı kullanır.\n",
        "\n",
        "***resid = pose.pdb_info().pdb2pose('A', 28)***\n",
        "\n",
        "* pose.pdb_info(), pose nesnesinin PDB bilgilerini içeren bir nesne döner.\n",
        "\n",
        "***.pdb2pose('A',28)***\n",
        "\n",
        "* PDB formatındaki A zincirindeki 28 numaralı residue'nün pose içindeki indeksi döner. resid bu indeksi tutar.\n",
        "\n",
        "***print(\"phi:\", pose.phi(resid))***\n",
        "***print(\"psi:\", pose.psi(resid))***\n",
        "***print(\"chi1:\", pose.chi(1, resid))***\n",
        "\n",
        "* pose.phi(resid): Belirtilen rezidünün phi torsiyon açısını döner.\n",
        "\n",
        "* pose.psi(resid): Belirtilen rezidünün psi torsiyon açısını döner.\n",
        "\n",
        "* pose.chi(1, resid): Belirtilen rezidünün birinci chi torsiyon açısını döner.\n",
        "\n",
        "***conformation = pose.conformation()***\n",
        "\n",
        "* pose nesnesinin konformasyonunu döner. Konformasyon, bir molekülün üç boyutlu uzayda sahip olduğu belirli bir atom düzenlemesini ifade eder.\n",
        "\n",
        "***res_28 = pose.residue(resid)***\n",
        "\n",
        "* pose nesnesinden resid indeksine karşılık gelen residue nesnesini döner.\n",
        "\n",
        "***N28 = AtomID(res_28.atom_index(\"N\"), resid)***\n",
        "\n",
        "* res_28 rezidüsündeki \"N\" atomunun kimliğini (AtomID) oluşturur.\n",
        "\n",
        "***CA28 = AtomID(res_28.atom_index(\"CA\"), resid)***\n",
        "\n",
        "* res_28 rezidüsündeki \"CA\" atomunun kimliğini (AtomID) oluşturur.\n",
        "\n",
        "***C28 = AtomID(res_28.atom_index(\"C\"), resid)***\n",
        "\n",
        "* res_28 rezidüsündeki \"C\" atomunun kimliğini (AtomID) oluşturur.\n",
        "\n",
        "***print(N28)***\n",
        "\n",
        "* N\" atomunun kimliğini yazdırır.\n",
        "\n",
        "\n"
      ],
      "metadata": {
        "id": "SxNE_7D6P4QO"
      }
    },
    {
      "cell_type": "markdown",
      "source": [
        "***"
      ],
      "metadata": {
        "id": "DFO9U74ii5tC"
      }
    },
    {
      "cell_type": "code",
      "source": [
        "print(pose.conformation().bond_length(N28, CA28))\n",
        "print(pose.conformation().bond_length(CA28, C28))"
      ],
      "metadata": {
        "id": "YoRwEo9LPsVh"
      },
      "execution_count": null,
      "outputs": []
    },
    {
      "cell_type": "markdown",
      "source": [
        "Alternatively"
      ],
      "metadata": {
        "id": "Vzj17v3wjO5l"
      }
    },
    {
      "cell_type": "code",
      "source": [
        "N_xyz = res_28.xyz(\"N\")\n",
        "CA_xyz = res_28.xyz(\"CA\")\n",
        "C_xyz = res_28.xyz(\"C\")\n",
        "N_CA_vector = CA_xyz - N_xyz\n",
        "CA_C_vector = CA_xyz - C_xyz\n",
        "print(N_CA_vector.norm())\n",
        "print(CA_C_vector.norm())\n"
      ],
      "metadata": {
        "id": "EOctAacwjLDZ"
      },
      "execution_count": null,
      "outputs": []
    },
    {
      "cell_type": "markdown",
      "source": [
        "## Kod Açıklaması\n",
        "\n",
        "belirli atomlar arasındaki bağ uzunluklarını ve bu atomların pozisyonlarını kullanarak hesaplanan vektör normlarını (veya büyüklüklerini) belirler.\n",
        "\n",
        "***pose.conformation().bond_length(N28, CA28)***\n",
        "\n",
        "* pose nesnesinin konformasyonunu kullanarak N28 ve CA28 atomları arasıdaki bağ uzunluğunu hesaplar ve yazdırır.\n",
        "\n",
        "***pose.conformation().bond_length(CA28, C28)***\n",
        "\n",
        "* pose nesnesinin konformasyonunu kullanarak CA28 ve C28 atomları arasındaki bağ uzunluğunu hesaplar ve yazdırır.\n",
        "\n",
        "***N_xyz = res_28.xyz(\"N\")***\n",
        "***CA_xyz = res_28.xyz(\"CA\")***\n",
        "***C_xyz = res_28.xyz(\"C\")***\n",
        "\n",
        "* res_28 rezidüsündeki \"N\", \"CA\" ve \"C\" atomlarının üç boyutlu koordinatlarını alır ve sırasıyla N_xyz, CA_xyz ve C_xyz değişkenlerine atar. Bu koordinatlar, atomların uzaydaki x, y ve z konumlarını temsil eder ve bu bilgiler protein yapısının daha ayrıntılı analizinde kullanılır.\n",
        "\n",
        "***N_CA_vector = CA_xyz - N_xyz***\n",
        "***CA_C_vector = CA_xyz - C_xyz***\n",
        "\n",
        "* N_xyz ve CA_xyz atomlarının koordinatları arasındaki farkı hesaplar ve N_CA_vector vektörünü oluşturur.\n",
        "\n",
        "* CA_xyz ve C_xyz atomlarının koordinatları arasındaki farkı hesaplar ve CA_C_vector vektörünü oluşturur.\n",
        "\n",
        "***print(N_CA_vector.norm())***\n",
        "***print(CA_C_vector.norm())***\n",
        "\n",
        "* N_CA_vector vektörünün normunu (büyüklüğünü) hesaplar ve yazdırır.\n",
        "\n",
        "* CA_C_vector vektörünün normunu (büyüklüğünü) hesaplar ve yazdırır.\n"
      ],
      "metadata": {
        "id": "pwgDBk5Fj0kU"
      }
    },
    {
      "cell_type": "markdown",
      "source": [
        "***"
      ],
      "metadata": {
        "id": "7sK0lh86lWdE"
      }
    },
    {
      "cell_type": "code",
      "source": [
        "angle = pose.conformation().bond_angle(N28, CA28, C28)\n",
        "print(angle)"
      ],
      "metadata": {
        "id": "VQljlCiMjsTz"
      },
      "execution_count": null,
      "outputs": []
    },
    {
      "cell_type": "code",
      "source": [
        "import math\n",
        "angle*180/math.pi"
      ],
      "metadata": {
        "id": "SvgzMWmCl5I7"
      },
      "execution_count": null,
      "outputs": []
    },
    {
      "cell_type": "markdown",
      "source": [
        "## Kod Açıklaması\n",
        "\n",
        "belirli atomlar arasındaki bağ açısını hesaplar ve bu açıyı radyan cinsinden dereceye çevirir.\n",
        "\n",
        "***pose.conformation().bond_angle(N28, CA28, C28)***\n",
        "\n",
        "* pose nesnesinin konformasyonunu kullanarak N28, CA28 ve C28 atomları arasındaki bağ açısını hesaplar ve angle değişkenine atar.\n",
        "\n",
        "* Bu açı, üç atom arasında oluşan açıdır ve radyan cinsindendir.\n",
        "\n",
        "***import math***\n",
        "\n",
        "* angle*180 / math.pi, Radyan cinsinden açıyı dereceye çevirir. Bu dönüşüm, radyan cinsinden açının 180 ile çarpılıp π'ye (pi) bölünmesiyle yapılır."
      ],
      "metadata": {
        "id": "5-vvbRM7nD1x"
      }
    },
    {
      "cell_type": "markdown",
      "source": [
        "***"
      ],
      "metadata": {
        "id": "epNwA-7MoDNj"
      }
    },
    {
      "cell_type": "code",
      "source": [
        "tripeptide = pose_from_sequence(\"AAA\")\n",
        "\n",
        "orig_phi = tripeptide.phi(2)\n",
        "orig_psi = tripeptide.psi(2)\n",
        "print(\"Original phi:\", orig_phi)\n",
        "print(\"Original psi:\", orig_psi)\n",
        "\n",
        "print(\"xyz coordinates:\", tripeptide.residue(2).xyz(\"CB\"))"
      ],
      "metadata": {
        "id": "6UZ2kf8HmDsN"
      },
      "execution_count": null,
      "outputs": []
    },
    {
      "cell_type": "code",
      "source": [
        "tripeptide.set_phi(2,-60)\n",
        "tripeptide.set_psi(2, -43)\n",
        "\n",
        "print(\"new phi:\", tripeptide.phi(2))\n",
        "print(\"new psi:\", tripeptide.psi(2))"
      ],
      "metadata": {
        "id": "Ix5x2PvHoqnf"
      },
      "execution_count": null,
      "outputs": []
    },
    {
      "cell_type": "code",
      "source": [
        "print(\"xyz coordinates:\", tripeptide.residue(2).xyz(\"CB\"))"
      ],
      "metadata": {
        "id": "cN_vzbNLpAFI"
      },
      "execution_count": null,
      "outputs": []
    },
    {
      "cell_type": "markdown",
      "source": [
        "## Kod Açıklaması\n",
        "\n",
        "bir üçlü peptit oluşturur, orta residue'nün phi ve psi torsiyon açılarını alır ve bu açıları değiştirir. Ayrıca, bu residue'nün belirli bir atomunun üç boyutlu koordinatlarını değişiklik öncesinde ve sonrasında görüntüler.\n",
        "\n",
        "***pose_from_sequence(\"AAA\")***\n",
        "\n",
        "* diziliminde üç adet alanine (A) bulunan bir üçlü peptit oluşturur.\n",
        "\n",
        "***tripeptide.phi(2)***\n",
        "\n",
        "*  İkinci rezidünün phi torsiyon açısını döner.\n",
        "\n",
        "***tripeptide.psi(2)***\n",
        "\n",
        "* İkinci rezidünün psi torsiyon açısını döner.\n",
        "\n",
        "***tripeptide.residue(2).xyz(\"CB\")***\n",
        "\n",
        "* ikinci residue'nün CB (beta karbon) atomunun üç boyutlu koordinatlarını döner.\n",
        "\n",
        "***tripeptide.set_phi(2, -60)***\n",
        "\n",
        "* ikinci residue'nün phi torsiyon açısını -60 derece olarak ayarlar.\n",
        "\n",
        "***tripeptide.set_psi(2, -43)***\n",
        "\n",
        "* ikinci residue'nün psi torsiyon açısını -43 olarak ayarlar."
      ],
      "metadata": {
        "id": "OhQI5BEvpSAp"
      }
    },
    {
      "cell_type": "markdown",
      "source": [
        "***"
      ],
      "metadata": {
        "id": "hJbjUBQCq_0W"
      }
    },
    {
      "cell_type": "code",
      "source": [
        "pose = pose_from_pdb(\"5TJ3.pdb\")"
      ],
      "metadata": {
        "collapsed": true,
        "id": "Jyl3jRbaqtxp"
      },
      "execution_count": null,
      "outputs": []
    },
    {
      "cell_type": "code",
      "source": [
        "from pyrosetta import PyMOLMover"
      ],
      "metadata": {
        "id": "mpt_fXxFtasH"
      },
      "execution_count": null,
      "outputs": []
    },
    {
      "cell_type": "code",
      "source": [
        "pmm = PyMOLMover()"
      ],
      "metadata": {
        "id": "Zi6PTM7AtiNA"
      },
      "execution_count": null,
      "outputs": []
    },
    {
      "cell_type": "code",
      "source": [
        "clone_pose = Pose()\n",
        "clone_pose.assign(pose)\n",
        "pmm.apply(clone_pose)"
      ],
      "metadata": {
        "id": "5od6bo-Dtnh-"
      },
      "execution_count": null,
      "outputs": []
    },
    {
      "cell_type": "code",
      "source": [
        "pmm.send_hbonds(clone_pose)"
      ],
      "metadata": {
        "id": "r_ZXFRxgtwxh"
      },
      "execution_count": null,
      "outputs": []
    },
    {
      "cell_type": "code",
      "source": [
        "pmm.keep_history(True)\n",
        "pmm.apply(clone_pose)\n",
        "clone_pose.set_phi(5, -90)\n",
        "pmm.apply(clone_pose)"
      ],
      "metadata": {
        "id": "VxdTi0eVt2qz"
      },
      "execution_count": null,
      "outputs": []
    },
    {
      "cell_type": "markdown",
      "source": [
        "## Kod Açıklaması\n",
        "\n",
        "bir PDB dosyasından okunan bir protein yapısını PyRosetta kullanarak PyMOL'da görüntülemek ve manipüle etmek için kullanılır.\n",
        "\n",
        "***from pyrosetta import PyMOLMover***\n",
        "\n",
        "* PyMOLMover sınıfını PyRosetta'dan içe aktarır\n",
        "\n",
        "***pmm = PyMOLMover()***\n",
        "\n",
        "* Yeni bir PyMOLMover nesnesi oluşturur. Bu nesne, PyRosetta ile PyMOL arasındaki etkileşimi sağlar.\n",
        "\n",
        "***clone_pose = Pose()***\n",
        "\n",
        "* Bu satır, yeni ve boş bir Pose nesnesi oluşturur. Bu yeni Pose nesnesi başlangıçta herhangi bir yapısal bilgi içermez.\n",
        "\n",
        "***clone_pose.assign(pose)***\n",
        "\n",
        "* Bu satır, var olan pose nesnesinin tüm yapısal ve konformasyonel bilgilerini yeni oluşturulan clone_pose nesnesine kopyalar. assign metodu, clone_pose nesnesinin, pose nesnesi ile aynı yapısal bilgileri içermesini sağlar.\n",
        "\n",
        "***pmm.apply(clone_pose)***\n",
        "\n",
        "* clone_pose nesnesini PyMOL'da görüntüler.\n",
        "\n",
        "***pmm.send_hbonds(clone_pose)***\n",
        "\n",
        "* clone_pose nesnesindeki hidrojen bağlarını PyMOL'a gönderir ve orada görüntüler.\n",
        "\n",
        "***pmm.keep_history(True)***\n",
        "\n",
        "* PyMOL'da yapılan değişikliklerin tarihçesini tutar. Bu, yapılan her değişikliğin PyMOL'da bir adım olarak kaydedilmesini sağlar.\n",
        "\n",
        "***pmm.apply(clone_pose)***\n",
        "\n",
        "* clone_pose nesnesini tekrar PyMOL'da görüntüler, tarihçeyi günceller.\n",
        "\n",
        "\n",
        "!PyMol'e daha sonra daha detaylı değineceğiz\n",
        "\n"
      ],
      "metadata": {
        "id": "dVXBtQYIzi_2"
      }
    },
    {
      "cell_type": "markdown",
      "source": [
        "***"
      ],
      "metadata": {
        "id": "2-hQPTd_1ItC"
      }
    }
  ]
}